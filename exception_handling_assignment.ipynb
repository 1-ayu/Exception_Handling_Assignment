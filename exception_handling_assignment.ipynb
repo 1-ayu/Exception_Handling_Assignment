{
 "cells": [
  {
   "cell_type": "markdown",
   "metadata": {},
   "source": [
    "Q1. What is an Exception in python? Write the difference between Exceptions and Systax Errors."
   ]
  },
  {
   "cell_type": "markdown",
   "metadata": {},
   "source": [
    "Ans. In python, an exception is an event that occurs during the execution of a program that disrupts the normal flow of the program's instructions. when an error or unexpected situation arises, Python raises an exception to handle the issue. Exceptions can be caused by various reasons, such as invalid input, file not found, division by zero, etc."
   ]
  },
  {
   "cell_type": "markdown",
   "metadata": {},
   "source": [
    "Difference between Exceptions and Syntax error:\n",
    "\n",
    "1. Cause:\n",
    "-Exception: Caused by runtime errors or unexpected conditions during program execution.\n",
    "-Syntax Error: Cause by mistakes in the code structure, violating the syntax rules of the Python Language.\n",
    "\n",
    "2. Detection:\n",
    "-Exception: Detected during runtime when the program is executing.\n",
    "-Syntax Error: Detected during the parsing phase, before the program starts running.\n",
    "\n",
    "3. Impact:\n",
    "- Exception: Interrupts the normal flow of the program but can be handled using exception handling mechanisms.\n",
    "-Syntax Error: Prevents the program from running until the syntax errors are fixed."
   ]
  },
  {
   "cell_type": "code",
   "execution_count": 1,
   "metadata": {},
   "outputs": [
    {
     "name": "stdout",
     "output_type": "stream",
     "text": [
      "division by zero\n"
     ]
    }
   ],
   "source": [
    "# 4.Example Exception\n",
    "try: \n",
    "    result =10/0\n",
    "except ZeroDivisionError as e:\n",
    "    print(e)"
   ]
  },
  {
   "cell_type": "code",
   "execution_count": 2,
   "metadata": {},
   "outputs": [
    {
     "ename": "SyntaxError",
     "evalue": "invalid syntax. Maybe you meant '==' or ':=' instead of '='? (1911664070.py, line 2)",
     "output_type": "error",
     "traceback": [
      "\u001b[1;36m  Cell \u001b[1;32mIn[2], line 2\u001b[1;36m\u001b[0m\n\u001b[1;33m    if x=5;\u001b[0m\n\u001b[1;37m       ^\u001b[0m\n\u001b[1;31mSyntaxError\u001b[0m\u001b[1;31m:\u001b[0m invalid syntax. Maybe you meant '==' or ':=' instead of '='?\n"
     ]
    }
   ],
   "source": [
    "# Example Syntax Error\n",
    "if x=5;\n",
    "print(\"hello\")"
   ]
  },
  {
   "cell_type": "markdown",
   "metadata": {},
   "source": [
    "2. what happened when an exception is not handled? Explain with an example."
   ]
  },
  {
   "cell_type": "markdown",
   "metadata": {},
   "source": [
    "Ans. When an exception is not handled in a program, it typically results in the termination of the program and an error message being displayed to the user. This abrupt terminatiion can be disruptive and may leave the program in an inconsistent state.\n",
    "\n",
    "Example."
   ]
  },
  {
   "cell_type": "code",
   "execution_count": 5,
   "metadata": {},
   "outputs": [],
   "source": [
    "def divide_numbers(a,b):\n",
    "    result =0\n",
    "    try:\n",
    "        result= a/b\n",
    "    except ZeroDivisionError:\n",
    "        print(\"Error: Division by zero!\")\n",
    "    # No handling for other exceptions\n",
    "        \n",
    "#  Example 1: Valid division\n",
    "        divide_numbers(10,2) #this will raise a ZeroDivisionError and terminate the program \n",
    "        print('This line will not be executed')\n"
   ]
  },
  {
   "cell_type": "markdown",
   "metadata": {},
   "source": [
    "3. Which Python statements are used to catch and handle exceptions? Explain with an example. "
   ]
  },
  {
   "cell_type": "markdown",
   "metadata": {},
   "source": [
    "Ans. try and except statements are used to catch and handle exceptions. when there is an error in the code which we think might harm the entire code then we use try and except statement in which in try we write the code in which we might think that this can harm the code and in except we write the exception so that the code remain work properly.\n",
    "\n",
    "Example."
   ]
  },
  {
   "cell_type": "code",
   "execution_count": 7,
   "metadata": {},
   "outputs": [
    {
     "name": "stdout",
     "output_type": "stream",
     "text": [
      "This will run and the above text will not run [Errno 2] No such file or directory: 'test0.txt'\n"
     ]
    }
   ],
   "source": [
    "try:\n",
    "    f= open(\"test0.txt\",'r')\n",
    "    f.write(\"This is just an example of try and except statement that it will not run \")\n",
    "except Exception as e:\n",
    "    print(\"This will run and the above text will not run\",e)"
   ]
  },
  {
   "cell_type": "markdown",
   "metadata": {},
   "source": [
    "4. Explain with an example:\n",
    "\n",
    "a.try and except- The 'try' and 'else' blocks in Python are used for exception handling. The try block allow you to write code that may raise exceptions(error) and handle those exceptions gracefully, preventing the program from crashing while else block contains code that will be executed if no exceptions are raised in the try block.\n"
   ]
  },
  {
   "cell_type": "code",
   "execution_count": 3,
   "metadata": {},
   "outputs": [
    {
     "name": "stdout",
     "output_type": "stream",
     "text": [
      "The result of the division is : 0.8333333333333334\n"
     ]
    }
   ],
   "source": [
    "try :\n",
    "    num1 = int(input(\"Enter a number: \"))\n",
    "    num2 = int(input(\"Enter another number: \"))\n",
    "\n",
    "    result = num1 / num2\n",
    "\n",
    "except ZeroDivisionError:\n",
    "    print(\"Error: Division by Zero is not allowed.\")\n",
    "else:\n",
    "    # code to be executed if no exceptions are raised\n",
    "    print(f\"The result of the division is : {result}\")  "
   ]
  },
  {
   "cell_type": "markdown",
   "metadata": {},
   "source": [
    "b. Finally- It is used in ocnjunction with the 'try' and 'except' blocks in Python. It contains code that will be executed regardless of whether an exception occured or not. The 'finally' block is useful for performing cleanup operations or releasing resources that should be executed no matter what."
   ]
  },
  {
   "cell_type": "code",
   "execution_count": 4,
   "metadata": {},
   "outputs": [
    {
     "name": "stdout",
     "output_type": "stream",
     "text": [
      "Finally block executed, file closed if it was opened.\n"
     ]
    },
    {
     "ename": "FileNotFoundError",
     "evalue": "[Errno 2] No such file or directory: 'example.txt'",
     "output_type": "error",
     "traceback": [
      "\u001b[1;31m---------------------------------------------------------------------------\u001b[0m",
      "\u001b[1;31mFileNotFoundError\u001b[0m                         Traceback (most recent call last)",
      "Cell \u001b[1;32mIn[4], line 2\u001b[0m\n\u001b[0;32m      1\u001b[0m \u001b[38;5;28;01mtry\u001b[39;00m :\n\u001b[1;32m----> 2\u001b[0m     file \u001b[38;5;241m=\u001b[39m \u001b[38;5;28;43mopen\u001b[39;49m\u001b[43m(\u001b[49m\u001b[38;5;124;43m\"\u001b[39;49m\u001b[38;5;124;43mexample.txt\u001b[39;49m\u001b[38;5;124;43m\"\u001b[39;49m\u001b[43m,\u001b[49m\u001b[43m \u001b[49m\u001b[38;5;124;43m\"\u001b[39;49m\u001b[38;5;124;43mr\u001b[39;49m\u001b[38;5;124;43m\"\u001b[39;49m\u001b[43m)\u001b[49m\n\u001b[0;32m      3\u001b[0m     content\u001b[38;5;241m=\u001b[39mfile\u001b[38;5;241m.\u001b[39mread()\n\u001b[0;32m      4\u001b[0m     result\u001b[38;5;241m=\u001b[39m \u001b[38;5;241m10\u001b[39m\u001b[38;5;241m/\u001b[39m\u001b[38;5;241m2\u001b[39m\n",
      "File \u001b[1;32m~\\AppData\\Roaming\\Python\\Python311\\site-packages\\IPython\\core\\interactiveshell.py:286\u001b[0m, in \u001b[0;36m_modified_open\u001b[1;34m(file, *args, **kwargs)\u001b[0m\n\u001b[0;32m    279\u001b[0m \u001b[38;5;28;01mif\u001b[39;00m file \u001b[38;5;129;01min\u001b[39;00m {\u001b[38;5;241m0\u001b[39m, \u001b[38;5;241m1\u001b[39m, \u001b[38;5;241m2\u001b[39m}:\n\u001b[0;32m    280\u001b[0m     \u001b[38;5;28;01mraise\u001b[39;00m \u001b[38;5;167;01mValueError\u001b[39;00m(\n\u001b[0;32m    281\u001b[0m         \u001b[38;5;124mf\u001b[39m\u001b[38;5;124m\"\u001b[39m\u001b[38;5;124mIPython won\u001b[39m\u001b[38;5;124m'\u001b[39m\u001b[38;5;124mt let you open fd=\u001b[39m\u001b[38;5;132;01m{\u001b[39;00mfile\u001b[38;5;132;01m}\u001b[39;00m\u001b[38;5;124m by default \u001b[39m\u001b[38;5;124m\"\u001b[39m\n\u001b[0;32m    282\u001b[0m         \u001b[38;5;124m\"\u001b[39m\u001b[38;5;124mas it is likely to crash IPython. If you know what you are doing, \u001b[39m\u001b[38;5;124m\"\u001b[39m\n\u001b[0;32m    283\u001b[0m         \u001b[38;5;124m\"\u001b[39m\u001b[38;5;124myou can use builtins\u001b[39m\u001b[38;5;124m'\u001b[39m\u001b[38;5;124m open.\u001b[39m\u001b[38;5;124m\"\u001b[39m\n\u001b[0;32m    284\u001b[0m     )\n\u001b[1;32m--> 286\u001b[0m \u001b[38;5;28;01mreturn\u001b[39;00m \u001b[43mio_open\u001b[49m\u001b[43m(\u001b[49m\u001b[43mfile\u001b[49m\u001b[43m,\u001b[49m\u001b[43m \u001b[49m\u001b[38;5;241;43m*\u001b[39;49m\u001b[43margs\u001b[49m\u001b[43m,\u001b[49m\u001b[43m \u001b[49m\u001b[38;5;241;43m*\u001b[39;49m\u001b[38;5;241;43m*\u001b[39;49m\u001b[43mkwargs\u001b[49m\u001b[43m)\u001b[49m\n",
      "\u001b[1;31mFileNotFoundError\u001b[0m: [Errno 2] No such file or directory: 'example.txt'"
     ]
    }
   ],
   "source": [
    "try :\n",
    "    file = open(\"example.txt\", \"r\")\n",
    "    content=file.read()\n",
    "    result= 10/2\n",
    "\n",
    "except ZeroDivisionError:\n",
    "    print(\"Error: The file 'example.txt' was not allowed\")\n",
    "\n",
    "else:\n",
    "    print(f\"The result of the division is: {result}\")\n",
    "finally:\n",
    "    # code will be executed no matter what\n",
    "    if 'file' in locals():\n",
    "        file.close()\n",
    "    print(\"Finally block executed, file closed if it was opened.\")"
   ]
  },
  {
   "cell_type": "markdown",
   "metadata": {},
   "source": [
    "c. raise - The raise statements in python is used to deliberately raise an exception. You can use it when you want to signal that a particular error condition has occured in your code."
   ]
  },
  {
   "cell_type": "code",
   "execution_count": 12,
   "metadata": {},
   "outputs": [
    {
     "name": "stdout",
     "output_type": "stream",
     "text": [
      "The result of the division is : 5.0\n",
      "Error:Cannot be divide by zero\n"
     ]
    }
   ],
   "source": [
    "def divide_numbers(num1,num2):\n",
    "    if num2==0:\n",
    "        raise ValueError(\"Cannot be divide by zero\")\n",
    "    return num1/num2\n",
    "try:\n",
    "    # result = divide_numbers(10,2)\n",
    "    print(f\"The result of the division is : {result}\")\n",
    "     \n",
    "    result = divide_numbers(10,0)\n",
    "\n",
    "except ValueError as ve:\n",
    "    print(f\"Error:{ve}\")\n",
    "\n",
    "except ZeroDivisionError:\n",
    "    print(\"Error: Division by Zero is not allowed\")"
   ]
  },
  {
   "cell_type": "code",
   "execution_count": 9,
   "metadata": {},
   "outputs": [
    {
     "name": "stdout",
     "output_type": "stream",
     "text": [
      "The result of the division is : 5.0\n"
     ]
    }
   ],
   "source": [
    "def divide_numbers(num1,num2):\n",
    "    if num2==0:\n",
    "        raise ValueError(\"Cannot be divide by zero\")\n",
    "    return num1/num2\n",
    "try:\n",
    "    result = divide_numbers(10,2)\n",
    "    print(f\"The result of the division is : {result}\")\n",
    "     \n",
    "    # result = divide_numbers(10,0)\n",
    "\n",
    "except ValueError as ve:\n",
    "    print(f\"Error:{ve}\")\n",
    "\n",
    "except ZeroDivisionError:\n",
    "    print(\"Error: Division by Zero is not allowed\")"
   ]
  },
  {
   "cell_type": "code",
   "execution_count": null,
   "metadata": {},
   "outputs": [],
   "source": []
  }
 ],
 "metadata": {
  "kernelspec": {
   "display_name": "Python 3",
   "language": "python",
   "name": "python3"
  },
  "language_info": {
   "codemirror_mode": {
    "name": "ipython",
    "version": 3
   },
   "file_extension": ".py",
   "mimetype": "text/x-python",
   "name": "python",
   "nbconvert_exporter": "python",
   "pygments_lexer": "ipython3",
   "version": "3.11.5"
  }
 },
 "nbformat": 4,
 "nbformat_minor": 2
}
